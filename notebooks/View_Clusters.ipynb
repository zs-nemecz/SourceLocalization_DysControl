{
 "cells": [
  {
   "cell_type": "code",
   "execution_count": 1,
   "metadata": {},
   "outputs": [
    {
     "name": "stdout",
     "output_type": "stream",
     "text": [
      "********************************************************************************\n",
      "WARNING: Imported VTK version (8.1) does not match the one used\n",
      "         to build the TVTK classes (8.2). This may cause problems.\n",
      "         Please rebuild TVTK.\n",
      "********************************************************************************\n",
      "\n"
     ]
    }
   ],
   "source": [
    "%matplotlib ipympl\n",
    "import os.path as op\n",
    "from mayavi import mlab\n",
    "import pickle\n",
    "import numpy as np\n",
    "import matplotlib.pyplot as plt\n",
    "import mne"
   ]
  },
  {
   "cell_type": "code",
   "execution_count": 9,
   "metadata": {},
   "outputs": [],
   "source": [
    "## Set parameters of interest here##\n",
    "############################################\n",
    "task = 'fixed_gaze'\n",
    "conditions = ['armenian', 'phase_rand']\n",
    "noise_cov= 'merged_nc'\n",
    "method = 'dSPM'\n",
    "tmin = 0.0\n",
    "tmax = 0.450\n",
    "p_threshold = 0.05\n",
    "n_permutations = 1000\n",
    "###########################################\n",
    "data_folder = op.join('D:\\\\', 'Zsuzsa', 'source_localization')\n",
    "task_dir = op.join(data_folder, task)\n",
    "time_label = str(int(tmin * 1000)) + '-' + str(int(tmax * 1000)) + 'ms'\n",
    "out_folder = op.join(task_dir, 'results', noise_cov, method, 'clusters')\n",
    "stc_result = op.join(out_folder, conditions[0] + '_' + conditions[1] + '_' + time_label + '_p-' + str(p_threshold) + '_nperm-' + str(int(n_permutations)))\n",
    "stc = mne.read_source_estimate(stc_result, 'fsaverage')"
   ]
  },
  {
   "cell_type": "markdown",
   "metadata": {},
   "source": [
    "## View cluster with p < 0.05 without time-course"
   ]
  },
  {
   "cell_type": "code",
   "execution_count": 10,
   "metadata": {},
   "outputs": [
    {
     "name": "stdout",
     "output_type": "stream",
     "text": [
      "Using control points [ 50.  64. 198.]\n"
     ]
    }
   ],
   "source": [
    "views =['lateral', 'caudal', 'ventral']\n",
    "tview_kwargs = dict(hemi='split',views=views, #clim=dict(kind='value', pos_lims=[18.0, 20.0, 25.0]),\n",
    "                    time_unit='s', smoothing_steps=5, colorbar = True, size = 1400, time_viewer = True)\n",
    "brain = stc.plot(**tview_kwargs)"
   ]
  },
  {
   "cell_type": "markdown",
   "metadata": {},
   "source": [
    "## Pickled cluster object - view cluster time course"
   ]
  },
  {
   "cell_type": "code",
   "execution_count": 6,
   "metadata": {},
   "outputs": [
    {
     "name": "stdout",
     "output_type": "stream",
     "text": [
      "[ 908  943 1473 3490 3508]\n"
     ]
    }
   ],
   "source": [
    "result_file = op.join(out_folder, conditions[0] + '_' + conditions[1] + '_' + time_label + '_nperm-' + str(int(n_permutations))+'_all_clu.pkl')\n",
    "clu = pickle.load( open( result_file, \"rb\" ) )\n",
    "T_obs, clusters, cluster_p_values, H0 = clu\n",
    "n_times, n_vertices = T_obs.shape\n",
    "data = np.zeros((n_vertices, n_times))\n",
    "good_cluster_inds = np.where(cluster_p_values < 0.05)[0]\n",
    "print(good_cluster_inds)"
   ]
  },
  {
   "cell_type": "code",
   "execution_count": 7,
   "metadata": {},
   "outputs": [],
   "source": [
    "\n",
    "v_inds = clusters[good_cluster_inds[0]][1]\n",
    "t_inds = clusters[good_cluster_inds[0]][0]\n",
    "data[v_inds, t_inds] = T_obs[t_inds, v_inds]"
   ]
  },
  {
   "cell_type": "code",
   "execution_count": 8,
   "metadata": {},
   "outputs": [],
   "source": [
    "stc.data = data\n",
    "views =['lateral', 'caudal', 'ventral']\n",
    "tview_kwargs = dict(hemi='split',views=views, clim=dict(kind='value', pos_lims=[1.0, 2.5, 7.0]),\n",
    "                    time_unit='s', smoothing_steps=5, colorbar = True, size = 1400, time_viewer = True)\n",
    "brain = stc.plot(**tview_kwargs)"
   ]
  },
  {
   "cell_type": "code",
   "execution_count": null,
   "metadata": {},
   "outputs": [],
   "source": []
  },
  {
   "cell_type": "code",
   "execution_count": null,
   "metadata": {},
   "outputs": [],
   "source": []
  }
 ],
 "metadata": {
  "kernelspec": {
   "display_name": "Python 3",
   "language": "python",
   "name": "python3"
  },
  "language_info": {
   "codemirror_mode": {
    "name": "ipython",
    "version": 3
   },
   "file_extension": ".py",
   "mimetype": "text/x-python",
   "name": "python",
   "nbconvert_exporter": "python",
   "pygments_lexer": "ipython3",
   "version": "3.7.4"
  }
 },
 "nbformat": 4,
 "nbformat_minor": 2
}
