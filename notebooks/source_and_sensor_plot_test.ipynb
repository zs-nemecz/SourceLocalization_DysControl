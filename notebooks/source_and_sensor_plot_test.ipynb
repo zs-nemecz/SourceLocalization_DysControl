{
 "cells": [
  {
   "cell_type": "code",
   "execution_count": 1,
   "metadata": {},
   "outputs": [],
   "source": [
    "%matplotlib ipympl\n",
    "import os.path as op\n",
    "import numpy as np\n",
    "import mne\n",
    "from mayavi import mlab\n",
    "import matplotlib.pyplot as plt"
   ]
  },
  {
   "cell_type": "code",
   "execution_count": 2,
   "metadata": {},
   "outputs": [],
   "source": [
    "# Set up dirs needed for all visualizations\n",
    "experiment_dir = '../fixed_gaze/'\n",
    "conditions = ['phase_rand', 'armenian', 'normal']"
   ]
  },
  {
   "cell_type": "code",
   "execution_count": 3,
   "metadata": {},
   "outputs": [
    {
     "name": "stdout",
     "output_type": "stream",
     "text": [
      "Reading ../fixed_gaze/phase_rand/evoked/average_phase_rand-ave.fif ...\n",
      "    Read a total of 1 projection items:\n",
      "        Average EEG reference (1 x 96)  idle\n",
      "    Found the data of interest:\n",
      "        t =    -250.00 ...     600.00 ms (Grand average (n = 39))\n",
      "        0 CTF compensation matrices available\n",
      "        nave = 39 - aspect type = 100\n",
      "No baseline correction applied\n",
      "Reading ../fixed_gaze/armenian/evoked/average_armenian-ave.fif ...\n",
      "    Read a total of 1 projection items:\n",
      "        Average EEG reference (1 x 96)  idle\n",
      "    Found the data of interest:\n",
      "        t =    -250.00 ...     600.00 ms (Grand average (n = 39))\n",
      "        0 CTF compensation matrices available\n",
      "        nave = 39 - aspect type = 100\n",
      "No baseline correction applied\n",
      "Reading ../fixed_gaze/normal/evoked/average_normal-ave.fif ...\n",
      "    Read a total of 1 projection items:\n",
      "        Average EEG reference (1 x 96)  idle\n",
      "    Found the data of interest:\n",
      "        t =    -250.00 ...     600.00 ms (Grand average (n = 39))\n",
      "        0 CTF compensation matrices available\n",
      "        nave = 39 - aspect type = 100\n",
      "No baseline correction applied\n"
     ]
    }
   ],
   "source": [
    "average_evoked = []\n",
    "for condition in conditions:\n",
    "    evoked_dir = op.join(experiment_dir, condition, 'evoked')\n",
    "    evoked_file =  op.join(evoked_dir, 'average_' + condition + '-ave.fif')\n",
    "    average_evoked.append(mne.read_evokeds(evoked_file, condition = 0, baseline=None, proj=False).crop(-0.050,None))"
   ]
  },
  {
   "cell_type": "code",
   "execution_count": 4,
   "metadata": {},
   "outputs": [],
   "source": [
    "noise_cov = 'with_non_reg_noise_cov'\n",
    "method = 'MNE'\n",
    "average_stc = []\n",
    "for condition in conditions:\n",
    "    average_stc_file = op.join(experiment_dir, condition, noise_cov, method, condition + '_average')\n",
    "    average_stc.append(mne.read_source_estimate(average_stc_file, 'fsaverage'))"
   ]
  },
  {
   "cell_type": "code",
   "execution_count": 5,
   "metadata": {
    "scrolled": false
   },
   "outputs": [
    {
     "name": "stdout",
     "output_type": "stream",
     "text": [
      "_plot_evoked called\n",
      "Stc is here\n"
     ]
    },
    {
     "data": {
      "application/vnd.jupyter.widget-view+json": {
       "model_id": "249ef265411b41779c1c3a614326d739",
       "version_major": 2,
       "version_minor": 0
      },
      "text/plain": [
       "Canvas(toolbar=Toolbar(toolitems=[('Home', 'Reset original view', 'home', 'home'), ('Back', 'Back to previous …"
      ]
     },
     "metadata": {},
     "output_type": "display_data"
    },
    {
     "name": "stdout",
     "output_type": "stream",
     "text": [
      "butterfly called\n",
      "<SourceEstimate  |  20484 vertices, subject : fsaverage, tmin : -250.0 (ms), tmax : 600.0 (ms), tstep : 2.0 (ms), data shape : (20484, 426)>\n"
     ]
    },
    {
     "data": {
      "application/vnd.jupyter.widget-view+json": {
       "model_id": "2a425173de85424184aa476cd4dccc38",
       "version_major": 2,
       "version_minor": 0
      },
      "text/plain": [
       "Canvas(toolbar=Toolbar(toolitems=[('Home', 'Reset original view', 'home', 'home'), ('Back', 'Back to previous …"
      ]
     },
     "metadata": {},
     "output_type": "display_data"
    },
    {
     "name": "stdout",
     "output_type": "stream",
     "text": [
      "Using control points [1.18183578e-11 1.52512084e-11 3.07074006e-11]\n"
     ]
    },
    {
     "data": {
      "application/vnd.jupyter.widget-view+json": {
       "model_id": "145b9e2f93d74249b915f0aafdf6620b",
       "version_major": 2,
       "version_minor": 0
      },
      "text/plain": [
       "Canvas(toolbar=Toolbar(toolitems=[('Home', 'Reset original view', 'home', 'home'), ('Back', 'Back to previous …"
      ]
     },
     "metadata": {},
     "output_type": "display_data"
    },
    {
     "name": "stdout",
     "output_type": "stream",
     "text": [
      "Using control points [1.18947346e-11 1.40762708e-11 2.61689731e-11]\n"
     ]
    }
   ],
   "source": [
    "fig = mne.viz.plot_evoked(average_evoked[0], stc=average_stc[0])"
   ]
  },
  {
   "cell_type": "code",
   "execution_count": null,
   "metadata": {},
   "outputs": [],
   "source": []
  }
 ],
 "metadata": {
  "kernelspec": {
   "display_name": "Python 3",
   "language": "python",
   "name": "python3"
  },
  "language_info": {
   "codemirror_mode": {
    "name": "ipython",
    "version": 3
   },
   "file_extension": ".py",
   "mimetype": "text/x-python",
   "name": "python",
   "nbconvert_exporter": "python",
   "pygments_lexer": "ipython3",
   "version": "3.7.1"
  }
 },
 "nbformat": 4,
 "nbformat_minor": 2
}
