{
 "cells": [
  {
   "cell_type": "code",
   "execution_count": 1,
   "metadata": {},
   "outputs": [
    {
     "name": "stdout",
     "output_type": "stream",
     "text": [
      "********************************************************************************\n",
      "WARNING: Imported VTK version (8.1) does not match the one used\n",
      "         to build the TVTK classes (8.2). This may cause problems.\n",
      "         Please rebuild TVTK.\n",
      "********************************************************************************\n",
      "\n"
     ]
    }
   ],
   "source": [
    "%matplotlib ipympl\n",
    "import os.path as op\n",
    "from mayavi import mlab\n",
    "import matplotlib.pyplot as plt\n",
    "import mne"
   ]
  },
  {
   "cell_type": "code",
   "execution_count": 2,
   "metadata": {},
   "outputs": [],
   "source": [
    "## Set parameters of interest here##\n",
    "############################################\n",
    "contrast = True\n",
    "task = 'fixed_gaze'\n",
    "conditions = ['armenian', 'phase_rand']\n",
    "noise_cov= 'merged_nc'\n",
    "method = 'dSPM'\n",
    "tmin = 0.0\n",
    "tmax = 0.450\n",
    "p_threshold = 0.05\n",
    "n_permutations = 1000\n",
    "###########################################\n",
    "task_dir = op.join('D:\\\\', 'Zsuzsa', 'source_localization', 'fixed_gaze')\n",
    "time_label = str(int(tmin * 1000)) + '-' + str(int(tmax * 1000)) + 'ms'\n",
    "out_folder = op.join(task_dir, 'results', noise_cov,'cross_hemi', method, 'clusters')\n"
   ]
  },
  {
   "cell_type": "markdown",
   "metadata": {},
   "source": [
    "## Clusters with p < 0.1"
   ]
  },
  {
   "cell_type": "code",
   "execution_count": 3,
   "metadata": {},
   "outputs": [
    {
     "name": "stdout",
     "output_type": "stream",
     "text": [
      "Using control points [28. 38. 94.]\n"
     ]
    }
   ],
   "source": [
    "if contrast:\n",
    "    stc_result = op.join(out_folder, conditions[0] + '_' + conditions[1] +  time_label + '_p-' + str(p_threshold) \\\n",
    "                         + '_nperm-' + str(int(n_permutations)))\n",
    "else:\n",
    "    stc_result = op.join(out_folder, conditions[0] + '_' + time_label + '_p-' + str(p_threshold) + '_nperm-' \\\n",
    "                         + str(int(n_permutations)))\n",
    "stc = mne.read_source_estimate(stc_result, 'fsaverage')\n",
    "\n",
    "views =['lateral', 'caudal', 'ventral']\n",
    "tview_kwargs = dict(hemi='split',views=views, #clim=dict(kind='value', pos_lims=[18.0, 20.0, 25.0]),\n",
    "                    time_unit='s', smoothing_steps=5, colorbar = True, size = 1400, time_viewer = True)\n",
    "brain = stc.plot(**tview_kwargs)"
   ]
  },
  {
   "cell_type": "markdown",
   "metadata": {},
   "source": [
    "## T objects"
   ]
  },
  {
   "cell_type": "code",
   "execution_count": 7,
   "metadata": {},
   "outputs": [
    {
     "name": "stdout",
     "output_type": "stream",
     "text": [
      "Using control points [2.2989288  2.53239202 4.28400402]\n"
     ]
    }
   ],
   "source": [
    "if contrast:\n",
    "    stc_result = op.join(out_folder, conditions[0] + '_' + conditions[1] + time_label + '_p-' + str(p_threshold) \\\n",
    "                         + '_nperm-' + str(int(n_permutations)) + '_t_obs')\n",
    "else:\n",
    "    stc_result = op.join(out_folder, conditions[0] + '_' + time_label + '_p-' + str(p_threshold) + '_nperm-' \\\n",
    "                         + str(int(n_permutations)) + '_t_obs')\n",
    "stc = mne.read_source_estimate(stc_result, 'fsaverage')\n",
    "\n",
    "views =['lateral', 'caudal', 'ventral']\n",
    "tview_kwargs = dict(hemi='split',views=views, #clim=dict(kind='value', pos_lims=[18.0, 20.0, 25.0]),\n",
    "                    time_unit='s', smoothing_steps=5, colorbar = True, size = 1400, time_viewer = True)\n",
    "brain = stc.plot(**tview_kwargs)"
   ]
  },
  {
   "cell_type": "code",
   "execution_count": null,
   "metadata": {},
   "outputs": [],
   "source": []
  }
 ],
 "metadata": {
  "kernelspec": {
   "display_name": "Python 3",
   "language": "python",
   "name": "python3"
  },
  "language_info": {
   "codemirror_mode": {
    "name": "ipython",
    "version": 3
   },
   "file_extension": ".py",
   "mimetype": "text/x-python",
   "name": "python",
   "nbconvert_exporter": "python",
   "pygments_lexer": "ipython3",
   "version": "3.7.4"
  }
 },
 "nbformat": 4,
 "nbformat_minor": 2
}
