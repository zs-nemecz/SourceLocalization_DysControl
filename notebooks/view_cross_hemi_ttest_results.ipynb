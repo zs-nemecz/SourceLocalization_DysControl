{
 "cells": [
  {
   "cell_type": "code",
   "execution_count": 1,
   "metadata": {},
   "outputs": [
    {
     "name": "stdout",
     "output_type": "stream",
     "text": [
      "********************************************************************************\n",
      "WARNING: Imported VTK version (8.1) does not match the one used\n",
      "         to build the TVTK classes (8.2). This may cause problems.\n",
      "         Please rebuild TVTK.\n",
      "********************************************************************************\n",
      "\n"
     ]
    }
   ],
   "source": [
    "%matplotlib ipympl\n",
    "import os.path as op\n",
    "from mayavi import mlab\n",
    "import matplotlib.pyplot as plt\n",
    "import numpy as np\n",
    "from numpy.random import randn\n",
    "from scipy import stats as stats\n",
    "import mne\n",
    "from mne.datasets import fetch_fsaverage\n"
   ]
  },
  {
   "cell_type": "code",
   "execution_count": 6,
   "metadata": {},
   "outputs": [],
   "source": [
    "contrast = True\n",
    "data_folder = op.join('D:\\\\', 'Zsuzsa', 'source_localization', 'fixed_gaze')\n",
    "noise_cov = 'merged_nc'\n",
    "method = 'dSPM'\n",
    "tmin = 0.0\n",
    "tmax = 0.450\n",
    "condition0 = 'normal'\n",
    "condition1 = 'phase_rand'\n",
    "time_start = str(int(tmin*1000))\n",
    "time_end = str(int(tmax*1000))\n",
    "if contrast:\n",
    "    params = condition0 +'_'+ condition1 + '_' + time_start + '-' + time_end\n",
    "else:\n",
    "    params = condition0 + '_' + time_start + '-' + time_end"
   ]
  },
  {
   "cell_type": "markdown",
   "metadata": {},
   "source": [
    "## FDR corrected"
   ]
  },
  {
   "cell_type": "code",
   "execution_count": 7,
   "metadata": {},
   "outputs": [],
   "source": [
    "stc_file = op.join(data_folder, 'results', noise_cov,'cross_hemi', method, 'fdr', 'fdrttest_pval_' + params)\n",
    "stc = mne.read_source_estimate(stc_file, 'fsaverage')\n",
    "ps_for_viz = stc.data * -1\n",
    "stc.data = ps_for_viz\n",
    "\n",
    "views = ['lat','caudal','ventral']\n",
    "mlab.options.offscreen = False\n",
    "tview_kwargs = dict(hemi='split', clim=dict(kind='value', lims=[-0.06, -0.04,0.0]),\n",
    "                    views=views, time_unit='s', smoothing_steps=5, colorbar = True, size = 1400, time_viewer = True)\n",
    "brain = stc.plot(**tview_kwargs)"
   ]
  },
  {
   "cell_type": "markdown",
   "metadata": {},
   "source": [
    "## Uncorrected"
   ]
  },
  {
   "cell_type": "code",
   "execution_count": 27,
   "metadata": {},
   "outputs": [],
   "source": [
    "stc_file = op.join(data_folder,'results', noise_cov, 'cross_hemi', method, 'uncorrected', 'ttest_pval_' + params)\n",
    "stc = mne.read_source_estimate(stc_file, 'fsaverage')\n",
    "ps_for_viz = stc.data * -1\n",
    "stc.data = ps_for_viz\n",
    "\n",
    "views = ['lat','caudal','ventral']\n",
    "mlab.options.offscreen = False\n",
    "tview_kwargs = dict(hemi='split', clim=dict(kind='value', lims=[-0.06, -0.04,0.0]),\n",
    "                    views=views, time_unit='s', smoothing_steps=5, colorbar = True, size = 1400, time_viewer = True)\n",
    "brain = stc.plot(**tview_kwargs)"
   ]
  },
  {
   "cell_type": "markdown",
   "metadata": {},
   "source": [
    "## t-value"
   ]
  },
  {
   "cell_type": "code",
   "execution_count": 26,
   "metadata": {},
   "outputs": [
    {
     "name": "stdout",
     "output_type": "stream",
     "text": [
      "Using control points [2.54893967 2.80802604 4.79704738]\n"
     ]
    }
   ],
   "source": [
    "stc_file = op.join(data_folder,'results', noise_cov, 'cross_hemi', method, 'uncorrected', 'ttest_tval_' + params)\n",
    "stc = mne.read_source_estimate(stc_file, 'fsaverage')\n",
    "ps_for_viz = stc.data \n",
    "stc.data = ps_for_viz\n",
    "\n",
    "views = ['lat','caudal','ventral']\n",
    "mlab.options.offscreen = False\n",
    "tview_kwargs = dict(hemi='split', #clim=dict(kind='value', lims=[-0.06, -0.04,0.0]),\n",
    "                    views=views, time_unit='s', smoothing_steps=5, colorbar = True, size = 1400, time_viewer = True)\n",
    "brain = stc.plot(**tview_kwargs)"
   ]
  },
  {
   "cell_type": "code",
   "execution_count": null,
   "metadata": {},
   "outputs": [],
   "source": []
  }
 ],
 "metadata": {
  "kernelspec": {
   "display_name": "Python 3",
   "language": "python",
   "name": "python3"
  },
  "language_info": {
   "codemirror_mode": {
    "name": "ipython",
    "version": 3
   },
   "file_extension": ".py",
   "mimetype": "text/x-python",
   "name": "python",
   "nbconvert_exporter": "python",
   "pygments_lexer": "ipython3",
   "version": "3.7.4"
  }
 },
 "nbformat": 4,
 "nbformat_minor": 2
}
