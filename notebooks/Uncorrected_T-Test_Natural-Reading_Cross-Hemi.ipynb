{
 "cells": [
  {
   "cell_type": "code",
   "execution_count": 1,
   "metadata": {},
   "outputs": [],
   "source": [
    "%matplotlib ipympl\n",
    "import os.path as op\n",
    "from mayavi import mlab\n",
    "import matplotlib.pyplot as plt\n",
    "import numpy as np\n",
    "from numpy.random import randn\n",
    "from scipy import stats as stats\n",
    "import mne\n",
    "from mne.datasets import fetch_fsaverage"
   ]
  },
  {
   "cell_type": "markdown",
   "metadata": {},
   "source": [
    "## Set method, time window and noise covariance matrix"
   ]
  },
  {
   "cell_type": "code",
   "execution_count": 2,
   "metadata": {},
   "outputs": [],
   "source": [
    "method = 'MNE'\n",
    "tmin = 0.125\n",
    "tmax = 0.220\n",
    "noise_cov = 'with_reg_noise_cov'"
   ]
  },
  {
   "cell_type": "markdown",
   "metadata": {},
   "source": [
    "## Create cross-hemisphere contrast and run t-test "
   ]
  },
  {
   "cell_type": "code",
   "execution_count": 3,
   "metadata": {},
   "outputs": [
    {
     "name": "stdout",
     "output_type": "stream",
     "text": [
      "Number of participants included:  38\n",
      "Collected 38 stc data files\n"
     ]
    }
   ],
   "source": [
    "fs_dir = fetch_fsaverage(verbose=False)\n",
    "subjects_dir = op.dirname(fs_dir)\n",
    "data_folder = '/home/zsuzsanna/Documents/MTA/source_localization/natural_reading/'\n",
    "# excluded: 181584\n",
    "subjects = ['842608', '587631', '217720', '059694', '394107', '356349', '044846', '050120', '269257', '103183', '862169', '284297', '643438', '048298', '414822', '638838', '390744', '930517', '093925', '213103', '331536', '205515', '135230', '320268', '319897', '321319', '303786', '822816', '163753', '667207', '424174', '612370', '528213', '009833', '927179', '515155', '366394', '133288']\n",
    "print('Number of participants included: ',len(subjects))\n",
    "\n",
    "## Dummy variables for arrays built in the for loop\n",
    "stc_data = None\n",
    "stc_xhemi_data = None\n",
    "tstep = None\n",
    "\n",
    "for subject in subjects:\n",
    "    stc_file = op.join(data_folder, noise_cov, method, subject)\n",
    "    stc = mne.read_source_estimate(stc_file, 'fsaverage')\n",
    "    stc.crop(tmin, tmax)\n",
    "    tstep = stc.tstep\n",
    "    ## Morph to fsaverage_sym\n",
    "    stc = mne.compute_source_morph(stc, 'fsaverage', 'fsaverage_sym', smooth=5,\n",
    "                                   warn=False,\n",
    "                                   subjects_dir=subjects_dir).apply(stc)\n",
    "    # Compute a morph-matrix mapping the right to the left hemisphere,\n",
    "    # and vice-versa.\n",
    "    morph = mne.compute_source_morph(stc, 'fsaverage_sym', 'fsaverage_sym',\n",
    "                                    spacing=stc.vertices, warn=False,\n",
    "                                    subjects_dir=subjects_dir, xhemi=True,\n",
    "                                    verbose='error')  # creating morph map\n",
    "    stc_xhemi = morph.apply(stc)\n",
    "    \n",
    "    if np.all(stc_data) == None:\n",
    "        stc_data = stc.data\n",
    "        stc_xhemi_data = stc_xhemi.data\n",
    "    else:\n",
    "        stc_data = np.dstack((stc_data, stc.data))\n",
    "        stc_xhemi_data = np.dstack((stc_xhemi_data, stc_xhemi.data))\n",
    "print('Collected {} stc data files'.format(stc_data.shape[2]))\n",
    "    \n",
    "X = stc_data[:,:,:] - stc_xhemi_data[:,:,:]\n",
    "out = stats.ttest_1samp(X, 0, axis=2) ## compute across participants\n",
    "ts = [out[0]]\n",
    "ps = [out[1]]"
   ]
  },
  {
   "cell_type": "markdown",
   "metadata": {},
   "source": [
    "## Visualization with time viewer "
   ]
  },
  {
   "cell_type": "code",
   "execution_count": null,
   "metadata": {},
   "outputs": [],
   "source": [
    "stc_file = op.join(data_folder, noise_cov, method, '842608')\n",
    "stc = mne.read_source_estimate(stc_file, 'fsaverage').crop(tmin,tmax)\n",
    "ps_for_viz = ps[0] * -1\n",
    "stc.data = ps_for_viz\n",
    "\n",
    "views = ['lat','caudal','ventral']\n",
    "mlab.options.offscreen = False\n",
    "tview_kwargs = dict(hemi='both', clim=dict(kind='value', lims=[-0.06, -0.04,0.0]),\n",
    "                    views=views, time_unit='s', smoothing_steps=5, colorbar = True, size = 1400, time_viewer = True)\n",
    "brain = stc.plot(**tview_kwargs)"
   ]
  },
  {
   "cell_type": "code",
   "execution_count": null,
   "metadata": {},
   "outputs": [],
   "source": []
  }
 ],
 "metadata": {
  "kernelspec": {
   "display_name": "Python 3",
   "language": "python",
   "name": "python3"
  },
  "language_info": {
   "codemirror_mode": {
    "name": "ipython",
    "version": 3
   },
   "file_extension": ".py",
   "mimetype": "text/x-python",
   "name": "python",
   "nbconvert_exporter": "python",
   "pygments_lexer": "ipython3",
   "version": "3.7.1"
  }
 },
 "nbformat": 4,
 "nbformat_minor": 2
}
