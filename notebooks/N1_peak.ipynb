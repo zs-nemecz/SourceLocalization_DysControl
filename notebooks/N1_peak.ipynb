{
 "cells": [
  {
   "cell_type": "markdown",
   "metadata": {},
   "source": [
    "## *Fixed - gaze task*\n",
    "# N1 peak - Visualizations"
   ]
  },
  {
   "cell_type": "code",
   "execution_count": 1,
   "metadata": {},
   "outputs": [],
   "source": [
    "%matplotlib ipympl\n",
    "import os.path as op\n",
    "import mne\n",
    "from mayavi import mlab\n",
    "import matplotlib.pyplot as plt"
   ]
  },
  {
   "cell_type": "code",
   "execution_count": 2,
   "metadata": {},
   "outputs": [],
   "source": [
    "# Set up dirs needed for all visualizations\n",
    "experiment_dir = '../fixed_gaze/'\n",
    "conditions = ['phase_rand', 'armenian', 'normal']"
   ]
  },
  {
   "cell_type": "markdown",
   "metadata": {},
   "source": [
    "## Sensor space"
   ]
  },
  {
   "cell_type": "code",
   "execution_count": 7,
   "metadata": {},
   "outputs": [
    {
     "name": "stdout",
     "output_type": "stream",
     "text": [
      "Reading ../fixed_gaze/phase_rand/evoked/average_phase_rand-ave.fif ...\n",
      "    Read a total of 1 projection items:\n",
      "        Average EEG reference (1 x 96)  idle\n",
      "    Found the data of interest:\n",
      "        t =    -250.00 ...     600.00 ms (Grand average (n = 39))\n",
      "        0 CTF compensation matrices available\n",
      "        nave = 39 - aspect type = 100\n",
      "No baseline correction applied\n",
      "Reading ../fixed_gaze/armenian/evoked/average_armenian-ave.fif ...\n",
      "    Read a total of 1 projection items:\n",
      "        Average EEG reference (1 x 96)  idle\n",
      "    Found the data of interest:\n",
      "        t =    -250.00 ...     600.00 ms (Grand average (n = 39))\n",
      "        0 CTF compensation matrices available\n",
      "        nave = 39 - aspect type = 100\n",
      "No baseline correction applied\n",
      "Reading ../fixed_gaze/normal/evoked/average_normal-ave.fif ...\n",
      "    Read a total of 1 projection items:\n",
      "        Average EEG reference (1 x 96)  idle\n",
      "    Found the data of interest:\n",
      "        t =    -250.00 ...     600.00 ms (Grand average (n = 39))\n",
      "        0 CTF compensation matrices available\n",
      "        nave = 39 - aspect type = 100\n",
      "No baseline correction applied\n"
     ]
    }
   ],
   "source": [
    "# Read average evoked files from all three conditions \n",
    "average_evoked = []\n",
    "for it, condition in enumerate(conditions):\n",
    "    evoked_dir = op.join(experiment_dir, condition, 'evoked')\n",
    "    evoked_file =  op.join(evoked_dir, 'average_' + condition + '-ave.fif')\n",
    "    average_evoked.append(mne.read_evokeds(evoked_file, condition = 0, baseline=None, proj=False,).crop(-0.050,None))"
   ]
  },
  {
   "cell_type": "code",
   "execution_count": 8,
   "metadata": {
    "scrolled": false
   },
   "outputs": [
    {
     "data": {
      "application/vnd.jupyter.widget-view+json": {
       "model_id": "da2812683a8442aca74ba8a62d4daa82",
       "version_major": 2,
       "version_minor": 0
      },
      "text/plain": [
       "Canvas(toolbar=Toolbar(toolitems=[('Home', 'Reset original view', 'home', 'home'), ('Back', 'Back to previous …"
      ]
     },
     "metadata": {},
     "output_type": "display_data"
    },
    {
     "data": {
      "application/vnd.jupyter.widget-view+json": {
       "model_id": "c6cab32c8ab44f0482f42d3a74e785de",
       "version_major": 2,
       "version_minor": 0
      },
      "text/plain": [
       "Canvas(toolbar=Toolbar(toolitems=[('Home', 'Reset original view', 'home', 'home'), ('Back', 'Back to previous …"
      ]
     },
     "metadata": {},
     "output_type": "display_data"
    }
   ],
   "source": [
    "# Plot evoked potentials of all three conditions, from stimulus onset   \n",
    "fig0, axs = plt.subplots(3,1, sharex=True, sharey = False, figsize = (12.0,5.8))\n",
    "for it, condition in enumerate(conditions):\n",
    "    average_evoked[it].plot(spatial_colors=True, axes = axs[it])\n",
    "    axs[it].set_title(condition.capitalize())"
   ]
  },
  {
   "cell_type": "code",
   "execution_count": null,
   "metadata": {},
   "outputs": [],
   "source": [
    "# Plot only N1 peak\n",
    "fig1, axs = plt.subplots(1,3, sharex=False, sharey = True, figsize = (12.0,5.8), squeeze = True)\n",
    "for it, condition in enumerate(conditions):\n",
    "    average_evoked[it].crop(0.130,0.230) # change time-window here\n",
    "    average_evoked[it].plot(spatial_colors=False, axes = axs[it])\n",
    "    axs[it].set_title(condition.capitalize())"
   ]
  },
  {
   "cell_type": "markdown",
   "metadata": {},
   "source": [
    "# Source space"
   ]
  },
  {
   "cell_type": "markdown",
   "metadata": {},
   "source": [
    "### Time-line for each condition"
   ]
  },
  {
   "cell_type": "code",
   "execution_count": null,
   "metadata": {
    "scrolled": false
   },
   "outputs": [],
   "source": [
    "noise_cov = 'with_non_reg_noise_cov'\n",
    "method = 'MNE'\n",
    "views = ['caudal', 'lateral']\n",
    "hemis = ['both', 'lh'] # looped together with views, as a tuple\n",
    "\n",
    "# Select time points to show\n",
    "time_points = [0.145, 0.155, 0.165, 0.175, 0.180, 0.185, 0.210, 0.230]\n",
    "time_sections = [0,2,4,6] # index of first subplot in figure, 2 images are shown per figure\n",
    "\n",
    "mlab.options.offscreen = True\n",
    "for condition in conditions:\n",
    "    average_stc_file = op.join(experiment_dir, condition, noise_cov, method, condition + '_average')\n",
    "    average_stc = mne.read_source_estimate(average_stc_file, 'fsaverage')\n",
    "    for t in time_sections:\n",
    "        for view, hemi in zip(views, hemis):\n",
    "            fig1, axs1 = plt.subplots(1,2, sharex=True, sharey = True)\n",
    "            fig1.suptitle(condition.capitalize() + ' condition')\n",
    "            surfer_kwargs = dict(hemi=hemi, clim=dict(kind='value', lims=[6.5e-12, 7.0e-12, 1.6e-11 ]),\n",
    "                                 views=view, time_unit='s', smoothing_steps=5, colorbar = False, size = 500, time_label = None)\n",
    "            for col,time_point in enumerate(time_points[t:(t+2)]):\n",
    "                brain = average_stc.plot(initial_time = time_point, **surfer_kwargs)\n",
    "                img = mlab.screenshot()\n",
    "                mlab.close()\n",
    "                axs1[col].imshow(img)\n",
    "                axs1[col].set_axis_off()\n",
    "                axs1[col].set_title(str(int(time_point*1000))+ ' ms')\n"
   ]
  },
  {
   "cell_type": "markdown",
   "metadata": {},
   "source": [
    "### Compare images between conditions at each time point"
   ]
  },
  {
   "cell_type": "code",
   "execution_count": null,
   "metadata": {
    "scrolled": false
   },
   "outputs": [],
   "source": [
    "noise_cov = 'with_non_reg_noise_cov'\n",
    "method = 'MNE'\n",
    "views = ['caudal', 'lateral']\n",
    "hemis = ['both', 'lh'] # looped together with views, as a tuple\n",
    "\n",
    "time_points = [0.150, 0.160, 0.180, 0.186, 0.188] # Time points of interest\n",
    "\n",
    "mlab.options.offscreen = True\n",
    "for time_point in time_points:\n",
    "    for view, hemi in zip(views, hemis):\n",
    "        surfer_kwargs = dict(hemi=hemi, clim=dict(kind='value', lims=[6.5e-12, 7.0e-12, 1.6e-11 ]),\n",
    "                             views=view, time_unit='s', smoothing_steps=5, colorbar = False, size = 700, time_label = None)\n",
    "        fig, axs = plt.subplots(1,3, sharex=True, sharey = True)\n",
    "        fig.suptitle('Time point: ' + str(int(time_point*1000)) + ' ms')\n",
    "        for col, condition in enumerate(conditions):\n",
    "            average_stc_file = op.join(experiment_dir, condition, noise_cov, method, condition + '_average')\n",
    "            average_stc = mne.read_source_estimate(average_stc_file, 'fsaverage')\n",
    "            brain = average_stc.plot(initial_time = time_point, **surfer_kwargs)\n",
    "            img = mlab.screenshot(antialiased = True)\n",
    "            mlab.close()\n",
    "            axs[col].imshow(img)\n",
    "            axs[col].set_axis_off()\n",
    "            axs[col].set_title(condition.capitalize())\n"
   ]
  },
  {
   "cell_type": "markdown",
   "metadata": {},
   "source": [
    "### Interactive figure with time viewer"
   ]
  },
  {
   "cell_type": "code",
   "execution_count": 6,
   "metadata": {},
   "outputs": [
    {
     "name": "stdout",
     "output_type": "stream",
     "text": [
      "Using control points [3.19137938e-13 3.61244001e-13 7.93644354e-13]\n"
     ]
    }
   ],
   "source": [
    "cond = 'normal'\n",
    "method = 'MNE'\n",
    "lims = [6.5e-12, 7.0e-12, 1.6e-11 ] #'MNE'\n",
    "# lims = [6.5, 7, 11] # 'dSPM'\n",
    "noise_cov = 'with_reg_noise_cov'\n",
    "views = ['lat','caudal','ventral']\n",
    "mlab.options.offscreen = False\n",
    "\n",
    "stc_file = op.join(experiment_dir, cond, noise_cov, method, cond+ '_average')\n",
    "stc = mne.read_source_estimate(stc_file, 'fsaverage')\n",
    "tview_kwargs = dict(hemi='split', #clim=dict(kind='value', lims=lims),\n",
    "                     views=views, time_unit='s', smoothing_steps=5, colorbar = True, size = 1400, \n",
    "                     initial_time = 0.180, time_viewer = True)\n",
    "brain = stc.plot(**tview_kwargs)"
   ]
  },
  {
   "cell_type": "markdown",
   "metadata": {},
   "source": [
    "### Create and save video"
   ]
  },
  {
   "cell_type": "code",
   "execution_count": null,
   "metadata": {},
   "outputs": [],
   "source": [
    "cond = 'phase_rand'\n",
    "tmin = 0.140\n",
    "tmax = 0.230\n",
    "method = 'dSPM'\n",
    "# lims = [6.5e-12, 7.0e-12, 1.6e-11 ] #'MNE'\n",
    "lims = [6.5, 7, 11] # 'dSPM'\n",
    "noise_cov = 'with_non_reg_noise_cov'\n",
    "views = ['lat','caudal','ventral']\n",
    "video_file = 'N1_' + cond + '_'+ method +'.mov'\n",
    "\n",
    "mlab.options.offscreen = False\n",
    "stc_file = op.join(experiment_dir, cond, noise_cov, method, cond + '_average')\n",
    "stc = mne.read_source_estimate(stc_file, 'fsaverage')\n",
    "video_kwargs = dict(hemi='split', clim=dict(kind='value', lims=lims),\n",
    "                     views=views, time_unit='s', smoothing_steps=5, colorbar = True, size = 1600, initial_time= tmin)\n",
    "brain = stc.plot(**video_kwargs)\n",
    "brain.save_movie(video_file, tmin=tmin, tmax= tmax, time_dilation = 200, framerate = 24)\n",
    "mlab.close()"
   ]
  },
  {
   "cell_type": "markdown",
   "metadata": {},
   "source": [
    "## Condition contrasts in source space"
   ]
  },
  {
   "cell_type": "code",
   "execution_count": 9,
   "metadata": {},
   "outputs": [],
   "source": [
    "# Contrast function\n",
    "def create_contrast_stc(stc1, stc2, tmin = None, tmax = None):\n",
    "    \n",
    "    # Read files if input is string\n",
    "    if isinstance(stc1, str):\n",
    "        stc1 = mne.read_source_estimate(stc1, 'fsaverage')\n",
    "    if isinstance(stc2, str):\n",
    "        stc2 = mne.read_source_estimate(stc2, 'fsaverage')\n",
    "    # Crop\n",
    "    stc1.crop(tmin, tmax)\n",
    "    stc2.crop(tmin, tmax)\n",
    "    # Create contrast\n",
    "    contrast = stc1.data - stc2.data\n",
    "    stc1.data = contrast\n",
    "    # Return stc with contrast data\n",
    "    return stc1"
   ]
  },
  {
   "cell_type": "markdown",
   "metadata": {},
   "source": [
    "### Interactive figure with time-viewer"
   ]
  },
  {
   "cell_type": "code",
   "execution_count": 12,
   "metadata": {},
   "outputs": [
    {
     "name": "stdout",
     "output_type": "stream",
     "text": [
      "Using control points [8.09722840e-14 9.97831758e-14 4.22909125e-13]\n"
     ]
    }
   ],
   "source": [
    "tmin = 0.0\n",
    "tmax= 0.600\n",
    "method = 'MNE'\n",
    "noise_cov = 'with_reg_noise_cov'\n",
    "# STC files\n",
    "phase_rand_file = op.join(experiment_dir, conditions[0], noise_cov, method, conditions[0]+ '_average')\n",
    "armenian_file = op.join(experiment_dir, conditions[1], noise_cov, method, conditions[1]+'_average')\n",
    "normal_file = op.join(experiment_dir, conditions[2], noise_cov, method, conditions[2]+'_average')\n",
    "contrast = create_contrast_stc(normal_file, phase_rand_file, tmin = tmin, tmax = tmax) # add conditions to compare here\n",
    "\n",
    "# lims = [0.5e-12, 0.5e-12, 6.5e-12]\n",
    "\n",
    "mlab.options.offscreen = False\n",
    "contrast_kwargs = dict(hemi='split', views=['lateral', 'caudal', 'ventral'], #clim=dict(kind='value', pos_lims=lims),\n",
    "                       initial_time= tmin, time_unit='s', size=(1200, 1200), smoothing_steps=5, time_viewer = True)\n",
    "\n",
    "brain = contrast.plot(**contrast_kwargs)"
   ]
  },
  {
   "cell_type": "code",
   "execution_count": null,
   "metadata": {},
   "outputs": [],
   "source": []
  }
 ],
 "metadata": {
  "kernelspec": {
   "display_name": "Python 3",
   "language": "python",
   "name": "python3"
  },
  "language_info": {
   "codemirror_mode": {
    "name": "ipython",
    "version": 3
   },
   "file_extension": ".py",
   "mimetype": "text/x-python",
   "name": "python",
   "nbconvert_exporter": "python",
   "pygments_lexer": "ipython3",
   "version": "3.7.1"
  }
 },
 "nbformat": 4,
 "nbformat_minor": 2
}
