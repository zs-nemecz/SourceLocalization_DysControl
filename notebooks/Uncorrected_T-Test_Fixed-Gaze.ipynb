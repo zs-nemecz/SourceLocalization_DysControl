{
 "cells": [
  {
   "cell_type": "code",
   "execution_count": null,
   "metadata": {},
   "outputs": [],
   "source": [
    "%matplotlib ipympl\n",
    "import os.path as op\n",
    "from mayavi import mlab\n",
    "import matplotlib.pyplot as plt\n",
    "import numpy as np\n",
    "from numpy.random import randn\n",
    "from scipy import stats as stats\n",
    "import mne\n",
    "from mne.datasets import fetch_fsaverage"
   ]
  },
  {
   "cell_type": "markdown",
   "metadata": {},
   "source": [
    "## Set conditions to compare, method, time window and noise covariance matrix"
   ]
  },
  {
   "cell_type": "code",
   "execution_count": null,
   "metadata": {},
   "outputs": [],
   "source": [
    "method = 'MNE'\n",
    "tmin = 0.0\n",
    "tmax = 0.450\n",
    "conditions = ['normal','phase_rand']\n",
    "noise_cov = 'merged_nc'"
   ]
  },
  {
   "cell_type": "markdown",
   "metadata": {},
   "source": [
    "## Run t-test on contrast (conditions[0] - conditions[1])"
   ]
  },
  {
   "cell_type": "code",
   "execution_count": null,
   "metadata": {},
   "outputs": [],
   "source": [
    "data_folder = '/home/zsuzsanna/Documents/MTA/source_localization/fixed_gaze/'\n",
    "src_fname = '/home/zsuzsanna/mne_data/MNE-fsaverage-data/fsaverage/bem/fsaverage-ico-5-src.fif'\n",
    "## subject '181585' ecluded!\n",
    "subjects = ['842608', '587631', '217720', '059694', '394107', '356349', '044846', '050120', '269257', '103183', '862169', '284297', '643438', '048298', '414822', '638838', '390744', '930517', '093925', '213103', '331536', '205515', '135230', '320268', '319897', '321319', '303786', '822816', '163753', '667207', '424174', '612370', '528213', '009833', '927179', '515155', '366394', '133288']\n",
    "print('Number of participants included: ',len(subjects))\n",
    "\n",
    "condition0_stc_data = None\n",
    "condition1_stc_data = None\n",
    "tstep = None\n",
    "\n",
    "for condition in conditions:\n",
    "    stc_data = None\n",
    "    for subject in subjects:\n",
    "        stc_file = op.join(data_folder, condition, noise_cov, method, subject)\n",
    "        stc = mne.read_source_estimate(stc_file, subject)\n",
    "        stc.crop(tmin, tmax)\n",
    "        tstep = stc.tstep\n",
    "        if np.all(stc_data) == None:\n",
    "            stc_data = stc.data\n",
    "        else:\n",
    "            stc_data = np.dstack((stc_data, stc.data))\n",
    "    print('Collected {} stc data files from {} condition'.format(stc_data.shape[2], condition))\n",
    "    if condition == conditions[0]:\n",
    "        condition0_stc_data = stc_data\n",
    "    else:\n",
    "        condition1_stc_data = stc_data\n",
    "print('Subtracting {} condition from {} condition'.format(conditions[1],conditions[0]))\n",
    "X = condition0_stc_data[:, :, :] - condition1_stc_data[:,:,:]\n",
    "out = stats.ttest_1samp(X, 0, axis=2) ## compute across participants\n",
    "ts = [out[0]]\n",
    "ps = [out[1]]"
   ]
  },
  {
   "cell_type": "markdown",
   "metadata": {},
   "source": [
    "## Visualization with time viewer "
   ]
  },
  {
   "cell_type": "code",
   "execution_count": null,
   "metadata": {},
   "outputs": [],
   "source": [
    "stc_file = op.join(data_folder, 'normal', noise_cov, method, 'normal_average')\n",
    "stc = mne.read_source_estimate(stc_file, 'fsaverage').crop(tmin,tmax)\n",
    "ps_for_viz = ps[0] * -1\n",
    "stc.data = ps_for_viz\n",
    "\n",
    "views = ['lat','caudal','ventral']\n",
    "mlab.options.offscreen = False\n",
    "tview_kwargs = dict(hemi='split', clim=dict(kind='value', lims=[-0.06, -0.04,0.0]),\n",
    "                    views=views, time_unit='s', smoothing_steps=5, colorbar = True, size = 1400, time_viewer = True)\n",
    "brain = stc.plot(**tview_kwargs)"
   ]
  },
  {
   "cell_type": "code",
   "execution_count": null,
   "metadata": {},
   "outputs": [],
   "source": []
  }
 ],
 "metadata": {
  "kernelspec": {
   "display_name": "Python 3",
   "language": "python",
   "name": "python3"
  },
  "language_info": {
   "codemirror_mode": {
    "name": "ipython",
    "version": 3
   },
   "file_extension": ".py",
   "mimetype": "text/x-python",
   "name": "python",
   "nbconvert_exporter": "python",
   "pygments_lexer": "ipython3",
   "version": "3.7.1"
  }
 },
 "nbformat": 4,
 "nbformat_minor": 2
}
