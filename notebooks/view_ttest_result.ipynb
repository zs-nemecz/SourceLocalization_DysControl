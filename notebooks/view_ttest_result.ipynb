{
 "cells": [
  {
   "cell_type": "code",
   "execution_count": 1,
   "metadata": {},
   "outputs": [
    {
     "name": "stdout",
     "output_type": "stream",
     "text": [
      "********************************************************************************\n",
      "WARNING: Imported VTK version (8.1) does not match the one used\n",
      "         to build the TVTK classes (8.2). This may cause problems.\n",
      "         Please rebuild TVTK.\n",
      "********************************************************************************\n",
      "\n"
     ]
    }
   ],
   "source": [
    "%matplotlib ipympl\n",
    "import os.path as op\n",
    "from mayavi import mlab\n",
    "import matplotlib.pyplot as plt\n",
    "import mne\n",
    "from mne.datasets import fetch_fsaverage"
   ]
  },
  {
   "cell_type": "code",
   "execution_count": 10,
   "metadata": {},
   "outputs": [],
   "source": [
    "data_folder = op.join('D:\\\\', 'Zsuzsa', 'source_localization', 'fixed_gaze')\n",
    "noise_cov = 'merged_nc'\n",
    "method = 'dSPM'\n",
    "tmin = 0.0\n",
    "tmax = 0.450\n",
    "condition0 = 'normal'\n",
    "condition1 = 'phase_rand'\n",
    "time_start = str(int(tmin*1000))\n",
    "time_end = str(int(tmax*1000))\n",
    "params = condition0 +'-'+ condition1 + '_' + time_start + '-' + time_end"
   ]
  },
  {
   "cell_type": "markdown",
   "metadata": {},
   "source": [
    "## FDR corrected p values"
   ]
  },
  {
   "cell_type": "code",
   "execution_count": 9,
   "metadata": {},
   "outputs": [],
   "source": [
    "stc_file = op.join(data_folder, 'results', noise_cov, method, 'fdr', 'fdrttest_pval_' + params)\n",
    "stc = mne.read_source_estimate(stc_file, 'fsaverage')\n",
    "ps_for_viz = stc.data * -1\n",
    "stc.data = ps_for_viz\n",
    "\n",
    "views = ['lat','caudal','ventral']\n",
    "mlab.options.offscreen = False\n",
    "tview_kwargs = dict(hemi='split', clim=dict(kind='value', lims=[-0.06, -0.04,0.0]),\n",
    "                    views=views, time_unit='s', smoothing_steps=5, colorbar = True, size = 1400, time_viewer = True)\n",
    "brain = stc.plot(**tview_kwargs)"
   ]
  },
  {
   "cell_type": "markdown",
   "metadata": {},
   "source": [
    "## Uncorrected p values"
   ]
  },
  {
   "cell_type": "code",
   "execution_count": null,
   "metadata": {},
   "outputs": [],
   "source": [
    "stc_file = op.join(data_folder,'results', noise_cov, method, 'uncorrected', 'ttest_pval_' + params)\n",
    "stc = mne.read_source_estimate(stc_file, 'fsaverage')\n",
    "ps_for_viz = stc.data * -1\n",
    "stc.data = ps_for_viz\n",
    "\n",
    "views = ['lat','caudal','ventral']\n",
    "mlab.options.offscreen = False\n",
    "tview_kwargs = dict(hemi='split', clim=dict(kind='value', lims=[-0.06, -0.04,0.0]),\n",
    "                    views=views, time_unit='s', smoothing_steps=5, colorbar = True, size = 1400, time_viewer = True)\n",
    "brain = stc.plot(**tview_kwargs)"
   ]
  },
  {
   "cell_type": "markdown",
   "metadata": {},
   "source": [
    "## t values"
   ]
  },
  {
   "cell_type": "code",
   "execution_count": 11,
   "metadata": {},
   "outputs": [
    {
     "ename": "OSError",
     "evalue": "SourceEstimate File(s) not found for: 'D:\\\\Zsuzsa\\\\source_localization\\\\fixed_gaze\\\\results\\\\merged_nc\\\\dSPM\\\\uncorrected\\\\ttest_tval_phase_rand-phase_rand_0-450'",
     "output_type": "error",
     "traceback": [
      "\u001b[1;31m---------------------------------------------------------------------------\u001b[0m",
      "\u001b[1;31mOSError\u001b[0m                                   Traceback (most recent call last)",
      "\u001b[1;32m<ipython-input-11-4ea9290b1c6d>\u001b[0m in \u001b[0;36m<module>\u001b[1;34m\u001b[0m\n\u001b[0;32m      1\u001b[0m \u001b[0mfolder\u001b[0m \u001b[1;33m=\u001b[0m \u001b[1;34m'D:\\\\Zsuzsa\\\\source_localization\\\\fixed_gaze\\\\results\\\\merged_nc\\\\dSPM\\\\uncorrected\\\\'\u001b[0m\u001b[1;33m\u001b[0m\u001b[1;33m\u001b[0m\u001b[0m\n\u001b[0;32m      2\u001b[0m \u001b[0mstc_file\u001b[0m \u001b[1;33m=\u001b[0m \u001b[0mfolder\u001b[0m \u001b[1;33m+\u001b[0m \u001b[1;34m'ttest_tval_'\u001b[0m \u001b[1;33m+\u001b[0m \u001b[0mparams\u001b[0m\u001b[1;33m\u001b[0m\u001b[1;33m\u001b[0m\u001b[0m\n\u001b[1;32m----> 3\u001b[1;33m \u001b[0mstc\u001b[0m \u001b[1;33m=\u001b[0m \u001b[0mmne\u001b[0m\u001b[1;33m.\u001b[0m\u001b[0mread_source_estimate\u001b[0m\u001b[1;33m(\u001b[0m\u001b[0mstc_file\u001b[0m\u001b[1;33m,\u001b[0m \u001b[1;34m'fsaverage'\u001b[0m\u001b[1;33m)\u001b[0m\u001b[1;33m\u001b[0m\u001b[1;33m\u001b[0m\u001b[0m\n\u001b[0m\u001b[0;32m      4\u001b[0m \u001b[0mps_for_viz\u001b[0m \u001b[1;33m=\u001b[0m \u001b[0mstc\u001b[0m\u001b[1;33m.\u001b[0m\u001b[0mdata\u001b[0m\u001b[1;33m\u001b[0m\u001b[1;33m\u001b[0m\u001b[0m\n\u001b[0;32m      5\u001b[0m \u001b[0mstc\u001b[0m\u001b[1;33m.\u001b[0m\u001b[0mdata\u001b[0m \u001b[1;33m=\u001b[0m \u001b[0mps_for_viz\u001b[0m\u001b[1;33m\u001b[0m\u001b[1;33m\u001b[0m\u001b[0m\n",
      "\u001b[1;32m~\\Anaconda3\\lib\\site-packages\\mne\\source_estimate.py\u001b[0m in \u001b[0;36mread_source_estimate\u001b[1;34m(fname, subject)\u001b[0m\n\u001b[0;32m    292\u001b[0m         \u001b[1;32melse\u001b[0m\u001b[1;33m:\u001b[0m\u001b[1;33m\u001b[0m\u001b[1;33m\u001b[0m\u001b[0m\n\u001b[0;32m    293\u001b[0m             raise IOError(\"SourceEstimate File(s) not found for: %r\"\n\u001b[1;32m--> 294\u001b[1;33m                           % fname_arg)\n\u001b[0m\u001b[0;32m    295\u001b[0m \u001b[1;33m\u001b[0m\u001b[0m\n\u001b[0;32m    296\u001b[0m     \u001b[1;31m# read the files\u001b[0m\u001b[1;33m\u001b[0m\u001b[1;33m\u001b[0m\u001b[1;33m\u001b[0m\u001b[0m\n",
      "\u001b[1;31mOSError\u001b[0m: SourceEstimate File(s) not found for: 'D:\\\\Zsuzsa\\\\source_localization\\\\fixed_gaze\\\\results\\\\merged_nc\\\\dSPM\\\\uncorrected\\\\ttest_tval_phase_rand-phase_rand_0-450'"
     ]
    }
   ],
   "source": [
    "folder = 'D:\\\\Zsuzsa\\\\source_localization\\\\fixed_gaze\\\\results\\\\merged_nc\\\\dSPM\\\\uncorrected\\\\'\n",
    "stc_file = folder + 'ttest_tval_' + params\n",
    "stc = mne.read_source_estimate(stc_file, 'fsaverage')\n",
    "ps_for_viz = stc.data \n",
    "stc.data = ps_for_viz\n",
    "\n",
    "views = ['lat','caudal','ventral']\n",
    "mlab.options.offscreen = False\n",
    "tview_kwargs = dict(hemi='split', #clim=dict(kind='value', lims=[-0.06, -0.04,0.0]),\n",
    "                    views=views, time_unit='s', smoothing_steps=5, colorbar = True, size = 1400, time_viewer = True)\n",
    "brain = stc.plot(**tview_kwargs)"
   ]
  },
  {
   "cell_type": "code",
   "execution_count": null,
   "metadata": {},
   "outputs": [],
   "source": []
  }
 ],
 "metadata": {
  "kernelspec": {
   "display_name": "Python 3",
   "language": "python",
   "name": "python3"
  },
  "language_info": {
   "codemirror_mode": {
    "name": "ipython",
    "version": 3
   },
   "file_extension": ".py",
   "mimetype": "text/x-python",
   "name": "python",
   "nbconvert_exporter": "python",
   "pygments_lexer": "ipython3",
   "version": "3.7.4"
  }
 },
 "nbformat": 4,
 "nbformat_minor": 2
}
